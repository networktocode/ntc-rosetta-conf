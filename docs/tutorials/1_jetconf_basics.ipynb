{
 "cells": [
  {
   "cell_type": "markdown",
   "metadata": {},
   "source": [
    "# Jetconf/Restconf basics\n",
    "\n",
    "In this demo we are going to see how jetconf works from an end user perspective and some of its capabilities.\n",
    "\n",
    "## Starting things up\n",
    "\n",
    "Run:\n",
    "\n",
    "    make start-dev-containers\n",
    "    \n",
    "Now, let's export some environment variables we need:"
   ]
  },
  {
   "cell_type": "code",
   "execution_count": 1,
   "metadata": {},
   "outputs": [],
   "source": [
    "export USER_CERT=../../tests/certs/test_user_curl.pem\n",
    "export BASE_URL=https://ntc-rosetta-conf:8443"
   ]
  },
  {
   "cell_type": "markdown",
   "metadata": {},
   "source": [
    "## Basics\n",
    "\n",
    "Jetconf adheres to [RFC8040](https://tools.ietf.org/html/rfc8040#section-4.5), with the exception of having support for candidate/running configuration database (which we will explore later).\n",
    "\n",
    "### Methods supported\n",
    "\n",
    "| Path      | Child  type   | Method | Use                                                                       |\n",
    "|-----------|---------------|--------|---------------------------------------------------------------------------|\n",
    "| container | list          | POST   | Creates a list element (doesn't fail if exists, but will fail on commit)  |\n",
    "| container | leaf          | POST   | Creates a leaf (fails if exists)                                          |\n",
    "| container | container     | POST   | Creates container (fails if exists)                                       |\n",
    "| container | N/A           | PUT    | Replaces the container object targetted in the path                       |\n",
    "| container | N/A           | DELETE | Deletes container targetted in the path                                   |\n",
    "| leaf      | N/A           | PUT    | Replaces existing leaf                                                    |\n",
    "| leaf      | N/A           | DELETE | Deletes existing leaf                                                     |\n",
    "| list      | N/A           | PUT    | Replaces existing element                                                 |\n",
    "| list      | N/A           | DELETE | Deletes existing element                                                  |\n",
    "\n",
    "It's important to understand the difference between `path` and `child` in this context, which only makes sense when the path points to a container and the method is a POST. The path is basically the URL you are querying, which might end in a container, list element or leaf. For instance:\n",
    "\n",
    "* container - `/interfaces` or `/interfaces/interface=eth0`\n",
    "* list - `/interfaces/interfaces`\n",
    "* leaf - `/interfaces/interfaces=eth0/name`\n",
    "\n",
    "The child type is basically the object type you are POSTing. When working with containers the object can either be a child object, which can be of either type, or iselt. We will see this more clearly as we progress with examples for each method. \n",
    "\n",
    "### Adding operations and hooks\n",
    "\n",
    "Finally, users can define their own operations. We will see examples of that in a later notebook when we explore napalm's integration. Hooks can also be defined; hooks are action that can be attached to actions like \"creating an interface\", \"removing a vlan\", \"updating a particular object or field\", etc...\n",
    "\n",
    "## Examples\n",
    "\n",
    "Now, let's explore the methods supported to deal with objects by example."
   ]
  },
  {
   "cell_type": "markdown",
   "metadata": {},
   "source": [
    "#### container : list : POST\n",
    "\n",
    "Here we are targing a container (`openconfig-interfaces:interfaces`) but the object inside will contain a list element (`openconfig-interfaces:interface: {...}`). You can use this to create new list elements:"
   ]
  },
  {
   "cell_type": "code",
   "execution_count": 2,
   "metadata": {},
   "outputs": [
    {
     "name": "stdout",
     "output_type": "stream",
     "text": [
      "{\n",
      "    \"openconfig-interfaces:interfaces\": {\n",
      "        \"interface\": []\n",
      "    }\n",
      "}"
     ]
    }
   ],
   "source": [
    "curl --http2 -k --cert-type PEM -E $USER_CERT \\\n",
    "    -X GET \\\n",
    "    $BASE_URL/restconf/data/openconfig-interfaces:interfaces"
   ]
  },
  {
   "cell_type": "code",
   "execution_count": 3,
   "metadata": {},
   "outputs": [
    {
     "name": "stdout",
     "output_type": "stream",
     "text": [
      "{\n",
      "\t\"openconfig-interfaces:interface\": {\n",
      "\t\t\"name\": \"eth0\",\n",
      "\t\t\"config\": {\n",
      "\t\t\t\"name\": \"eth0\",\n",
      "\t\t\t\"description\": \"a test interface\",\n",
      "\t\t\t\"type\": \"iana-if-type:ethernetCsmacd\"\n",
      "\t\t}\n",
      "\t}\n",
      "}\n"
     ]
    }
   ],
   "source": [
    "cat 1_jetconf_basics/add_interface_eth0.json"
   ]
  },
  {
   "cell_type": "code",
   "execution_count": 4,
   "metadata": {},
   "outputs": [],
   "source": [
    "curl --http2 -k --cert-type PEM -E $USER_CERT \\\n",
    "    -X POST \\\n",
    "    -d @1_jetconf_basics/add_interface_eth0.json \\\n",
    "    $BASE_URL/restconf/data/openconfig-interfaces:interfaces"
   ]
  },
  {
   "cell_type": "code",
   "execution_count": 5,
   "metadata": {},
   "outputs": [
    {
     "name": "stdout",
     "output_type": "stream",
     "text": [
      "{\n",
      "    \"openconfig-interfaces:interfaces\": {\n",
      "        \"interface\": [\n",
      "            {\n",
      "                \"name\": \"eth0\",\n",
      "                \"config\": {\n",
      "                    \"name\": \"eth0\",\n",
      "                    \"description\": \"a test interface\",\n",
      "                    \"type\": \"iana-if-type:ethernetCsmacd\"\n",
      "                }\n",
      "            }\n",
      "        ]\n",
      "    }\n",
      "}"
     ]
    }
   ],
   "source": [
    "curl --http2 -k --cert-type PEM -E $USER_CERT \\\n",
    "    -X GET \\\n",
    "    $BASE_URL/restconf/data/openconfig-interfaces:interfaces"
   ]
  },
  {
   "cell_type": "markdown",
   "metadata": {},
   "source": [
    "#### container : leaf : POST\n",
    "\n",
    "Now we are targetting a different container but the object inside is a leaf. You can use this to create new leaves in a container. For instance, let's add the mtu field to the configuration, which is missing:"
   ]
  },
  {
   "cell_type": "code",
   "execution_count": 6,
   "metadata": {},
   "outputs": [
    {
     "name": "stdout",
     "output_type": "stream",
     "text": [
      "{\n",
      "    \"openconfig-interfaces:config\": {\n",
      "        \"name\": \"eth0\",\n",
      "        \"description\": \"a test interface\",\n",
      "        \"type\": \"iana-if-type:ethernetCsmacd\"\n",
      "    }\n",
      "}"
     ]
    }
   ],
   "source": [
    "curl --http2 -k --cert-type PEM -E $USER_CERT \\\n",
    "    -X GET \\\n",
    "    $BASE_URL/restconf/data/openconfig-interfaces:interfaces/interface=eth0/config"
   ]
  },
  {
   "cell_type": "code",
   "execution_count": 7,
   "metadata": {},
   "outputs": [
    {
     "name": "stdout",
     "output_type": "stream",
     "text": [
      "{\n",
      "\t\"openconfig-interfaces:mtu\": 9000\n",
      "}\n"
     ]
    }
   ],
   "source": [
    "cat 1_jetconf_basics/add_mtu.json"
   ]
  },
  {
   "cell_type": "code",
   "execution_count": 8,
   "metadata": {},
   "outputs": [],
   "source": [
    "curl --http2 -k --cert-type PEM -E $USER_CERT \\\n",
    "    -X POST \\\n",
    "    -d @1_jetconf_basics/add_mtu.json \\\n",
    "    $BASE_URL/restconf/data/openconfig-interfaces:interfaces/interface=eth0/config"
   ]
  },
  {
   "cell_type": "code",
   "execution_count": 9,
   "metadata": {},
   "outputs": [
    {
     "name": "stdout",
     "output_type": "stream",
     "text": [
      "{\n",
      "    \"openconfig-interfaces:config\": {\n",
      "        \"name\": \"eth0\",\n",
      "        \"description\": \"a test interface\",\n",
      "        \"type\": \"iana-if-type:ethernetCsmacd\",\n",
      "        \"mtu\": 9000\n",
      "    }\n",
      "}"
     ]
    }
   ],
   "source": [
    "curl --http2 -k --cert-type PEM -E $USER_CERT \\\n",
    "    -X GET \\\n",
    "    $BASE_URL/restconf/data/openconfig-interfaces:interfaces/interface=eth0/config"
   ]
  },
  {
   "cell_type": "markdown",
   "metadata": {},
   "source": [
    "#### container : container : POST\n",
    "\n",
    "You can POST a container object in a container object to create it. For instance, let's create the `hold-time` container under the interface itself, which is missing:"
   ]
  },
  {
   "cell_type": "code",
   "execution_count": 10,
   "metadata": {},
   "outputs": [
    {
     "name": "stdout",
     "output_type": "stream",
     "text": [
      "{\n",
      "    \"ietf-restconf:errors\": {\n",
      "        \"error\": [\n",
      "            {\n",
      "                \"error-type\": \"protocol\",\n",
      "                \"error-tag\": \"invalid-value\",\n",
      "                \"error-path\": \"/openconfig-interfaces:interfaces/interface/0\",\n",
      "                \"error-message\": \"NonexistentInstance: member 'hold-time'\"\n",
      "            }\n",
      "        ]\n",
      "    }\n",
      "}"
     ]
    }
   ],
   "source": [
    "curl --http2 -k --cert-type PEM -E $USER_CERT \\\n",
    "    -X GET \\\n",
    "    $BASE_URL/restconf/data/openconfig-interfaces:interfaces/interface=eth0/hold-time"
   ]
  },
  {
   "cell_type": "code",
   "execution_count": 11,
   "metadata": {},
   "outputs": [
    {
     "name": "stdout",
     "output_type": "stream",
     "text": [
      "{\n",
      "\t\"openconfig-interfaces:hold-time\": {}\n",
      "}\n"
     ]
    }
   ],
   "source": [
    "cat 1_jetconf_basics/add_hold_time.json"
   ]
  },
  {
   "cell_type": "code",
   "execution_count": 12,
   "metadata": {},
   "outputs": [],
   "source": [
    "curl --http2 -k --cert-type PEM -E $USER_CERT \\\n",
    "    -X POST \\\n",
    "    -d @1_jetconf_basics/add_hold_time.json \\\n",
    "    $BASE_URL/restconf/data/openconfig-interfaces:interfaces/interface=eth0"
   ]
  },
  {
   "cell_type": "code",
   "execution_count": 13,
   "metadata": {},
   "outputs": [
    {
     "name": "stdout",
     "output_type": "stream",
     "text": [
      "{\n",
      "    \"openconfig-interfaces:hold-time\": {}\n",
      "}"
     ]
    }
   ],
   "source": [
    "curl --http2 -k --cert-type PEM -E $USER_CERT \\\n",
    "    -X GET \\\n",
    "    $BASE_URL/restconf/data/openconfig-interfaces:interfaces/interface=eth0/hold-time"
   ]
  },
  {
   "cell_type": "markdown",
   "metadata": {},
   "source": [
    "Note: In this example we added an empty container, but you can add an already populated one"
   ]
  },
  {
   "cell_type": "markdown",
   "metadata": {},
   "source": [
    "#### container : N/A : PUT\n",
    "\n",
    "When doing a PUT in a container, the object in the paylod is itself. You can use this to do replace the container:"
   ]
  },
  {
   "cell_type": "code",
   "execution_count": 14,
   "metadata": {},
   "outputs": [
    {
     "name": "stdout",
     "output_type": "stream",
     "text": [
      "{\n",
      "    \"openconfig-interfaces:config\": {\n",
      "        \"name\": \"eth0\",\n",
      "        \"description\": \"a test interface\",\n",
      "        \"type\": \"iana-if-type:ethernetCsmacd\",\n",
      "        \"mtu\": 9000\n",
      "    }\n",
      "}"
     ]
    }
   ],
   "source": [
    "curl --http2 -k --cert-type PEM -E $USER_CERT \\\n",
    "    -X GET \\\n",
    "    $BASE_URL/restconf/data/openconfig-interfaces:interfaces/interface=eth0/config"
   ]
  },
  {
   "cell_type": "code",
   "execution_count": 15,
   "metadata": {},
   "outputs": [
    {
     "name": "stdout",
     "output_type": "stream",
     "text": [
      "{\n",
      "\t\"openconfig-interfaces:config\": {\n",
      "\t\t\"name\": \"eth0\",\n",
      "\t\t\"description\": \"a new interface description\",\n",
      "\t\t\"type\": \"iana-if-type:ethernetCsmacd\"\n",
      "\t}\n",
      "}\n"
     ]
    }
   ],
   "source": [
    "cat 1_jetconf_basics/change_config.json"
   ]
  },
  {
   "cell_type": "code",
   "execution_count": 16,
   "metadata": {},
   "outputs": [],
   "source": [
    "curl --http2 -k --cert-type PEM -E $USER_CERT \\\n",
    "    -X PUT \\\n",
    "    -d @1_jetconf_basics/change_config.json \\\n",
    "    $BASE_URL/restconf/data/openconfig-interfaces:interfaces/interface=eth0/config"
   ]
  },
  {
   "cell_type": "code",
   "execution_count": 17,
   "metadata": {},
   "outputs": [
    {
     "name": "stdout",
     "output_type": "stream",
     "text": [
      "{\n",
      "    \"openconfig-interfaces:config\": {\n",
      "        \"name\": \"eth0\",\n",
      "        \"description\": \"a new interface description\",\n",
      "        \"type\": \"iana-if-type:ethernetCsmacd\"\n",
      "    }\n",
      "}"
     ]
    }
   ],
   "source": [
    "curl --http2 -k --cert-type PEM -E $USER_CERT \\\n",
    "    -X GET \\\n",
    "    $BASE_URL/restconf/data/openconfig-interfaces:interfaces/interface=eth0/config"
   ]
  },
  {
   "cell_type": "markdown",
   "metadata": {},
   "source": [
    "#### container : N/A : DELETE\n",
    "\n",
    "Use it to delete a container:"
   ]
  },
  {
   "cell_type": "code",
   "execution_count": 18,
   "metadata": {},
   "outputs": [
    {
     "name": "stdout",
     "output_type": "stream",
     "text": [
      "{\n",
      "    \"openconfig-interfaces:interface\": [\n",
      "        {\n",
      "            \"name\": \"eth0\",\n",
      "            \"hold-time\": {},\n",
      "            \"config\": {\n",
      "                \"name\": \"eth0\",\n",
      "                \"description\": \"a new interface description\",\n",
      "                \"type\": \"iana-if-type:ethernetCsmacd\"\n",
      "            }\n",
      "        }\n",
      "    ]\n",
      "}"
     ]
    }
   ],
   "source": [
    "curl --http2 -k --cert-type PEM -E $USER_CERT \\\n",
    "    -X GET \\\n",
    "    $BASE_URL/restconf/data/openconfig-interfaces:interfaces/interface=eth0"
   ]
  },
  {
   "cell_type": "code",
   "execution_count": 19,
   "metadata": {},
   "outputs": [],
   "source": [
    "curl --http2 -k --cert-type PEM -E $USER_CERT \\\n",
    "    -X DELETE \\\n",
    "    $BASE_URL/restconf/data/openconfig-interfaces:interfaces/interface=eth0/hold-time"
   ]
  },
  {
   "cell_type": "code",
   "execution_count": 20,
   "metadata": {},
   "outputs": [
    {
     "name": "stdout",
     "output_type": "stream",
     "text": [
      "{\n",
      "    \"openconfig-interfaces:interface\": [\n",
      "        {\n",
      "            \"name\": \"eth0\",\n",
      "            \"config\": {\n",
      "                \"name\": \"eth0\",\n",
      "                \"description\": \"a new interface description\",\n",
      "                \"type\": \"iana-if-type:ethernetCsmacd\"\n",
      "            }\n",
      "        }\n",
      "    ]\n",
      "}"
     ]
    }
   ],
   "source": [
    "curl --http2 -k --cert-type PEM -E $USER_CERT \\\n",
    "    -X GET \\\n",
    "    $BASE_URL/restconf/data/openconfig-interfaces:interfaces/interface=eth0"
   ]
  },
  {
   "cell_type": "markdown",
   "metadata": {},
   "source": [
    "#### leaf : N/A : PUT\n",
    "\n",
    "You can use it to change a configuration element:"
   ]
  },
  {
   "cell_type": "code",
   "execution_count": 21,
   "metadata": {},
   "outputs": [
    {
     "name": "stdout",
     "output_type": "stream",
     "text": [
      "{\n",
      "    \"openconfig-interfaces:description\": \"a new interface description\"\n",
      "}"
     ]
    }
   ],
   "source": [
    "curl --http2 -k --cert-type PEM -E $USER_CERT \\\n",
    "    -X GET \\\n",
    "    $BASE_URL/restconf/data/openconfig-interfaces:interfaces/interface=eth0/config/description"
   ]
  },
  {
   "cell_type": "code",
   "execution_count": 22,
   "metadata": {},
   "outputs": [
    {
     "name": "stdout",
     "output_type": "stream",
     "text": [
      "{\n",
      "    \"openconfig-interfaces:description\": \"yet another changed description\"\n",
      "}\n"
     ]
    }
   ],
   "source": [
    "cat 1_jetconf_basics/change_description.json"
   ]
  },
  {
   "cell_type": "code",
   "execution_count": 23,
   "metadata": {},
   "outputs": [],
   "source": [
    "curl --http2 -k --cert-type PEM -E $USER_CERT \\\n",
    "    -X PUT \\\n",
    "    -d @1_jetconf_basics/change_description.json \\\n",
    "    $BASE_URL/restconf/data/openconfig-interfaces:interfaces/interface=eth0/config/description"
   ]
  },
  {
   "cell_type": "code",
   "execution_count": 24,
   "metadata": {},
   "outputs": [
    {
     "name": "stdout",
     "output_type": "stream",
     "text": [
      "{\n",
      "    \"openconfig-interfaces:description\": \"yet another changed description\"\n",
      "}"
     ]
    }
   ],
   "source": [
    "curl --http2 -k --cert-type PEM -E $USER_CERT \\\n",
    "    -X GET \\\n",
    "    $BASE_URL/restconf/data/openconfig-interfaces:interfaces/interface=eth0/config/description"
   ]
  },
  {
   "cell_type": "markdown",
   "metadata": {},
   "source": [
    "#### leaf : N/A : DELETE\n",
    "\n",
    "This is useful to remove configuration elements:"
   ]
  },
  {
   "cell_type": "code",
   "execution_count": 25,
   "metadata": {},
   "outputs": [
    {
     "name": "stdout",
     "output_type": "stream",
     "text": [
      "{\n",
      "    \"openconfig-interfaces:config\": {\n",
      "        \"name\": \"eth0\",\n",
      "        \"type\": \"iana-if-type:ethernetCsmacd\",\n",
      "        \"description\": \"yet another changed description\"\n",
      "    }\n",
      "}"
     ]
    }
   ],
   "source": [
    "curl --http2 -k --cert-type PEM -E $USER_CERT \\\n",
    "    -X GET \\\n",
    "    $BASE_URL/restconf/data/openconfig-interfaces:interfaces/interface=eth0/config"
   ]
  },
  {
   "cell_type": "code",
   "execution_count": 26,
   "metadata": {},
   "outputs": [],
   "source": [
    "curl --http2 -k --cert-type PEM -E $USER_CERT \\\n",
    "    -X DELETE \\\n",
    "    $BASE_URL/restconf/data/openconfig-interfaces:interfaces/interface=eth0/config/description"
   ]
  },
  {
   "cell_type": "code",
   "execution_count": 27,
   "metadata": {},
   "outputs": [
    {
     "name": "stdout",
     "output_type": "stream",
     "text": [
      "{\n",
      "    \"openconfig-interfaces:config\": {\n",
      "        \"name\": \"eth0\",\n",
      "        \"type\": \"iana-if-type:ethernetCsmacd\"\n",
      "    }\n",
      "}"
     ]
    }
   ],
   "source": [
    "curl --http2 -k --cert-type PEM -E $USER_CERT \\\n",
    "    -X GET \\\n",
    "    $BASE_URL/restconf/data/openconfig-interfaces:interfaces/interface=eth0/config"
   ]
  },
  {
   "cell_type": "markdown",
   "metadata": {},
   "source": [
    "#### list : N/A : PUT\n",
    "\n",
    "You can use this to replace the entire list:"
   ]
  },
  {
   "cell_type": "code",
   "execution_count": 28,
   "metadata": {},
   "outputs": [
    {
     "name": "stdout",
     "output_type": "stream",
     "text": [
      "{\n",
      "    \"openconfig-interfaces:interface\": [\n",
      "        {\n",
      "            \"name\": \"eth0\",\n",
      "            \"config\": {\n",
      "                \"name\": \"eth0\",\n",
      "                \"type\": \"iana-if-type:ethernetCsmacd\"\n",
      "            }\n",
      "        }\n",
      "    ]\n",
      "}"
     ]
    }
   ],
   "source": [
    "curl --http2 -k --cert-type PEM -E $USER_CERT \\\n",
    "    -X GET \\\n",
    "    $BASE_URL/restconf/data/openconfig-interfaces:interfaces/interface"
   ]
  },
  {
   "cell_type": "code",
   "execution_count": 29,
   "metadata": {},
   "outputs": [
    {
     "name": "stdout",
     "output_type": "stream",
     "text": [
      "{\n",
      "\t\"openconfig-interfaces:interface\": [\n",
      "\t\t{\n",
      "\t\t\t\"name\": \"eth1\",\n",
      "\t\t\t\"config\": {\n",
      "\t\t\t\t\"name\": \"eth1\",\n",
      "\t\t\t\t\"type\": \"iana-if-type:ethernetCsmacd\"\n",
      "\t\t\t}\n",
      "\t\t},\n",
      "\t\t{\n",
      "\t\t\t\"name\": \"eth2\",\n",
      "\t\t\t\"config\": {\n",
      "\t\t\t\t\"name\": \"eth2\",\n",
      "\t\t\t\t\"type\": \"iana-if-type:ethernetCsmacd\"\n",
      "\t\t\t}\n",
      "\t\t}\n",
      "\t]\n",
      "}\n"
     ]
    }
   ],
   "source": [
    "cat 1_jetconf_basics/replace_interfaces.json"
   ]
  },
  {
   "cell_type": "code",
   "execution_count": 30,
   "metadata": {},
   "outputs": [],
   "source": [
    "curl --http2 -k --cert-type PEM -E $USER_CERT \\\n",
    "    -X PUT \\\n",
    "    -d @1_jetconf_basics/replace_interfaces.json \\\n",
    "    $BASE_URL/restconf/data/openconfig-interfaces:interfaces/interface"
   ]
  },
  {
   "cell_type": "code",
   "execution_count": 31,
   "metadata": {},
   "outputs": [
    {
     "name": "stdout",
     "output_type": "stream",
     "text": [
      "{\n",
      "    \"openconfig-interfaces:interface\": [\n",
      "        {\n",
      "            \"name\": \"eth1\",\n",
      "            \"config\": {\n",
      "                \"name\": \"eth1\",\n",
      "                \"type\": \"iana-if-type:ethernetCsmacd\"\n",
      "            }\n",
      "        },\n",
      "        {\n",
      "            \"name\": \"eth2\",\n",
      "            \"config\": {\n",
      "                \"name\": \"eth2\",\n",
      "                \"type\": \"iana-if-type:ethernetCsmacd\"\n",
      "            }\n",
      "        }\n",
      "    ]\n",
      "}"
     ]
    }
   ],
   "source": [
    "curl --http2 -k --cert-type PEM -E $USER_CERT \\\n",
    "    -X GET \\\n",
    "    $BASE_URL/restconf/data/openconfig-interfaces:interfaces/interface"
   ]
  },
  {
   "cell_type": "markdown",
   "metadata": {},
   "source": [
    "#### list : N/A : DELETE\n",
    "\n",
    "You can use this to delete the entire list (although you will need to reinitialize it with a POST, much better to replace the list with an empty one instead):"
   ]
  },
  {
   "cell_type": "code",
   "execution_count": 32,
   "metadata": {},
   "outputs": [
    {
     "name": "stdout",
     "output_type": "stream",
     "text": [
      "{\n",
      "    \"openconfig-interfaces:interfaces\": {\n",
      "        \"interface\": [\n",
      "            {\n",
      "                \"name\": \"eth1\",\n",
      "                \"config\": {\n",
      "                    \"name\": \"eth1\",\n",
      "                    \"type\": \"iana-if-type:ethernetCsmacd\"\n",
      "                }\n",
      "            },\n",
      "            {\n",
      "                \"name\": \"eth2\",\n",
      "                \"config\": {\n",
      "                    \"name\": \"eth2\",\n",
      "                    \"type\": \"iana-if-type:ethernetCsmacd\"\n",
      "                }\n",
      "            }\n",
      "        ]\n",
      "    }\n",
      "}"
     ]
    }
   ],
   "source": [
    "curl --http2 -k --cert-type PEM -E $USER_CERT \\\n",
    "    -X GET \\\n",
    "    $BASE_URL/restconf/data/openconfig-interfaces:interfaces"
   ]
  },
  {
   "cell_type": "code",
   "execution_count": 33,
   "metadata": {},
   "outputs": [],
   "source": [
    "curl --http2 -k --cert-type PEM -E $USER_CERT \\\n",
    "    -X DELETE \\\n",
    "    $BASE_URL/restconf/data/openconfig-interfaces:interfaces/interface"
   ]
  },
  {
   "cell_type": "code",
   "execution_count": 34,
   "metadata": {
    "scrolled": true
   },
   "outputs": [
    {
     "name": "stdout",
     "output_type": "stream",
     "text": [
      "{\n",
      "    \"openconfig-interfaces:interfaces\": {}\n",
      "}"
     ]
    }
   ],
   "source": [
    "curl --http2 -k --cert-type PEM -E $USER_CERT \\\n",
    "    -X GET \\\n",
    "    $BASE_URL/restconf/data/openconfig-interfaces:interfaces"
   ]
  },
  {
   "cell_type": "code",
   "execution_count": 35,
   "metadata": {},
   "outputs": [
    {
     "name": "stdout",
     "output_type": "stream",
     "text": [
      "{\n",
      "    \"status\": \"OK\"\n",
      "}"
     ]
    }
   ],
   "source": [
    "# ignore me, this discards the changes so the notebook can be rerun\n",
    "curl --http2 -k --cert-type PEM -E $USER_CERT \\\n",
    "    -X POST \\\n",
    "    $BASE_URL/restconf/operations/jetconf:conf-reset"
   ]
  }
 ],
 "metadata": {
  "kernelspec": {
   "display_name": "Bash",
   "language": "bash",
   "name": "bash"
  },
  "language_info": {
   "codemirror_mode": "shell",
   "file_extension": ".sh",
   "mimetype": "text/x-sh",
   "name": "bash"
  }
 },
 "nbformat": 4,
 "nbformat_minor": 2
}
