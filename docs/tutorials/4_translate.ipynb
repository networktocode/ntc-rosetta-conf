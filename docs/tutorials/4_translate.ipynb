{
 "cells": [
  {
   "cell_type": "markdown",
   "metadata": {},
   "source": [
    "# Using rosetta-conf to generate native configuration\n",
    "\n",
    "## Starting things up\n",
    "\n",
    "Run:\n",
    "\n",
    "    make start-dev-containers\n",
    "\n",
    "Now, let's export some environment variables we need:"
   ]
  },
  {
   "cell_type": "code",
   "execution_count": 1,
   "metadata": {},
   "outputs": [],
   "source": [
    "export USER_CERT=../../tests/certs/test_user_curl.pem\n",
    "export BASE_URL=https://ntc-rosetta-conf:8443"
   ]
  },
  {
   "cell_type": "markdown",
   "metadata": {},
   "source": [
    "## Configuration\n",
    "\n",
    "First we need to configure the platform of the device, this configuration is part of the model."
   ]
  },
  {
   "cell_type": "code",
   "execution_count": 2,
   "metadata": {},
   "outputs": [
    {
     "name": "stdout",
     "output_type": "stream",
     "text": [
      "{\n",
      "    \"ntc-rosetta-conf:device\": {\n",
      "        \"config\": {\n",
      "            \"platform\": \"ios\"\n",
      "        }\n",
      "    }\n",
      "}\n"
     ]
    }
   ],
   "source": [
    "cat 4_translate/configuration.json"
   ]
  },
  {
   "cell_type": "code",
   "execution_count": 3,
   "metadata": {},
   "outputs": [],
   "source": [
    "curl --http2 -k --cert-type PEM -E $USER_CERT \\\n",
    "    -X POST \\\n",
    "    -d @4_translate/configuration.json \\\n",
    "    $BASE_URL/restconf/data/"
   ]
  },
  {
   "cell_type": "code",
   "execution_count": 4,
   "metadata": {},
   "outputs": [
    {
     "name": "stdout",
     "output_type": "stream",
     "text": [
      "{\n",
      "    \"status\": \"OK\",\n",
      "    \"conf-changed\": true\n",
      "}"
     ]
    }
   ],
   "source": [
    "curl --http2 -k --cert-type PEM -E $USER_CERT \\\n",
    "    -X POST \\\n",
    "    $BASE_URL/restconf/operations/jetconf:conf-commit"
   ]
  },
  {
   "cell_type": "code",
   "execution_count": 5,
   "metadata": {},
   "outputs": [
    {
     "name": "stdout",
     "output_type": "stream",
     "text": [
      "{\n",
      "    \"ntc-rosetta-conf:device\": {\n",
      "        \"config\": {\n",
      "            \"platform\": \"ntc-rosetta-conf:ios\"\n",
      "        }\n",
      "    }\n",
      "}"
     ]
    }
   ],
   "source": [
    "curl --http2 -k --cert-type PEM -E $USER_CERT \\\n",
    "    -X GET \\\n",
    "    $BASE_URL/restconf_running/data/ntc-rosetta-conf:device"
   ]
  },
  {
   "cell_type": "markdown",
   "metadata": {},
   "source": [
    "## Translating\n",
    "\n",
    "The first thing we can do is translate the data into native format. Let's start by adding a couple of interfaces:"
   ]
  },
  {
   "cell_type": "code",
   "execution_count": 6,
   "metadata": {},
   "outputs": [
    {
     "name": "stdout",
     "output_type": "stream",
     "text": [
      "{\n",
      "    \"openconfig-interfaces:interface\": {\n",
      "        \"name\": \"eth0\",\n",
      "        \"config\": {\n",
      "            \"name\": \"eth0\",\n",
      "            \"description\": \"an interface description\",\n",
      "            \"type\": \"iana-if-type:ethernetCsmacd\"\n",
      "        }\n",
      "    }\n",
      "}\n"
     ]
    }
   ],
   "source": [
    "cat 4_translate/add_interface_eth0.json"
   ]
  },
  {
   "cell_type": "code",
   "execution_count": 7,
   "metadata": {},
   "outputs": [
    {
     "name": "stdout",
     "output_type": "stream",
     "text": [
      "{\n",
      "    \"openconfig-interfaces:interface\": {\n",
      "        \"name\": \"eth1\",\n",
      "        \"config\": {\n",
      "            \"name\": \"eth1\",\n",
      "            \"description\": \"another interface\",\n",
      "            \"type\": \"iana-if-type:ethernetCsmacd\"\n",
      "        }\n",
      "    }\n",
      "}\n"
     ]
    }
   ],
   "source": [
    "cat 4_translate/add_interface_eth1.json"
   ]
  },
  {
   "cell_type": "code",
   "execution_count": 8,
   "metadata": {},
   "outputs": [],
   "source": [
    "curl --http2 -k --cert-type PEM -E $USER_CERT \\\n",
    "    -X POST \\\n",
    "    -d @4_translate/add_interface_eth0.json \\\n",
    "    $BASE_URL/restconf/data/openconfig-interfaces:interfaces"
   ]
  },
  {
   "cell_type": "code",
   "execution_count": 9,
   "metadata": {},
   "outputs": [],
   "source": [
    "curl --http2 -k --cert-type PEM -E $USER_CERT \\\n",
    "    -X POST \\\n",
    "    -d @4_translate/add_interface_eth1.json \\\n",
    "    $BASE_URL/restconf/data/openconfig-interfaces:interfaces"
   ]
  },
  {
   "cell_type": "code",
   "execution_count": 10,
   "metadata": {},
   "outputs": [
    {
     "name": "stdout",
     "output_type": "stream",
     "text": [
      "{\n",
      "    \"openconfig-interfaces:interfaces\": {\n",
      "        \"interface\": [\n",
      "            {\n",
      "                \"name\": \"eth0\",\n",
      "                \"config\": {\n",
      "                    \"name\": \"eth0\",\n",
      "                    \"description\": \"an interface description\",\n",
      "                    \"type\": \"iana-if-type:ethernetCsmacd\"\n",
      "                }\n",
      "            },\n",
      "            {\n",
      "                \"name\": \"eth1\",\n",
      "                \"config\": {\n",
      "                    \"name\": \"eth1\",\n",
      "                    \"description\": \"another interface\",\n",
      "                    \"type\": \"iana-if-type:ethernetCsmacd\"\n",
      "                }\n",
      "            }\n",
      "        ]\n",
      "    }\n",
      "}"
     ]
    }
   ],
   "source": [
    "# candidate database\n",
    "curl --http2 -k --cert-type PEM -E $USER_CERT \\\n",
    "    -X GET \\\n",
    "    $BASE_URL/restconf/data/openconfig-interfaces:interfaces"
   ]
  },
  {
   "cell_type": "code",
   "execution_count": 11,
   "metadata": {},
   "outputs": [
    {
     "name": "stdout",
     "output_type": "stream",
     "text": [
      "{\n",
      "    \"openconfig-interfaces:interfaces\": {\n",
      "        \"interface\": []\n",
      "    }\n",
      "}"
     ]
    }
   ],
   "source": [
    "# running database\n",
    "curl --http2 -k --cert-type PEM -E $USER_CERT \\\n",
    "    -X GET \\\n",
    "    $BASE_URL/restconf_running/data/openconfig-interfaces:interfaces"
   ]
  },
  {
   "cell_type": "markdown",
   "metadata": {},
   "source": [
    "Now we can translate either the \"candidate\" or \"running\" databases into native configuration:"
   ]
  },
  {
   "cell_type": "code",
   "execution_count": 12,
   "metadata": {},
   "outputs": [
    {
     "name": "stdout",
     "output_type": "stream",
     "text": [
      "{\n",
      "    \"ntc-rosetta-conf:input\": {\n",
      "        \"database\": \"candidate\"\n",
      "    }\n",
      "}\n"
     ]
    }
   ],
   "source": [
    "cat 4_translate/translate_candidate.json"
   ]
  },
  {
   "cell_type": "code",
   "execution_count": 13,
   "metadata": {},
   "outputs": [
    {
     "name": "stdout",
     "output_type": "stream",
     "text": [
      "interface eth0\n",
      "   description an interface description\n",
      "   exit\n",
      "!\n",
      "interface eth1\n",
      "   description another interface\n",
      "   exit\n",
      "!\n",
      "\n"
     ]
    }
   ],
   "source": [
    "curl -s --http2 -k --cert-type PEM -E $USER_CERT \\\n",
    "    -X POST \\\n",
    "    -d @4_translate/translate_candidate.json \\\n",
    "    $BASE_URL/restconf/operations/ntc-rosetta-conf:translate | jq -r \".native\""
   ]
  },
  {
   "cell_type": "code",
   "execution_count": 14,
   "metadata": {},
   "outputs": [
    {
     "name": "stdout",
     "output_type": "stream",
     "text": [
      "\n"
     ]
    }
   ],
   "source": [
    "# running was empty so no data there\n",
    "curl -s --http2 -k --cert-type PEM -E $USER_CERT \\\n",
    "    -X POST \\\n",
    "    -d @4_translate/translate_running.json \\\n",
    "    $BASE_URL/restconf/operations/ntc-rosetta-conf:translate | jq -r \".native\""
   ]
  },
  {
   "cell_type": "code",
   "execution_count": 15,
   "metadata": {},
   "outputs": [
    {
     "name": "stdout",
     "output_type": "stream",
     "text": [
      "{\n",
      "    \"status\": \"OK\",\n",
      "    \"conf-changed\": true\n",
      "}"
     ]
    }
   ],
   "source": [
    "# now we are happy with it we can commit the configuration\n",
    "curl --http2 -k --cert-type PEM -E $USER_CERT \\\n",
    "    -X POST \\\n",
    "    $BASE_URL/restconf/operations/jetconf:conf-commit"
   ]
  },
  {
   "cell_type": "markdown",
   "metadata": {},
   "source": [
    "## More changes\n",
    "\n",
    "We can now apply more changes to the candidate database and keep comparing the candidate and running databases of the device using their native representation:"
   ]
  },
  {
   "cell_type": "code",
   "execution_count": 16,
   "metadata": {},
   "outputs": [
    {
     "name": "stdout",
     "output_type": "stream",
     "text": [
      "{\n",
      "    \"openconfig-interfaces:description\": \"a changed description\"\n",
      "}\n"
     ]
    }
   ],
   "source": [
    "cat 4_translate/change_interface_eth0.json"
   ]
  },
  {
   "cell_type": "code",
   "execution_count": 17,
   "metadata": {},
   "outputs": [],
   "source": [
    "curl --http2 -k --cert-type PEM -E $USER_CERT \\\n",
    "    -X PUT \\\n",
    "    -d @4_translate/change_interface_eth0.json \\\n",
    "    $BASE_URL/restconf/data/openconfig-interfaces:interfaces/interface=eth0/config/description"
   ]
  },
  {
   "cell_type": "code",
   "execution_count": 18,
   "metadata": {},
   "outputs": [
    {
     "name": "stdout",
     "output_type": "stream",
     "text": [
      "interface eth0\n",
      "   description a changed description\n",
      "   exit\n",
      "!\n",
      "interface eth1\n",
      "   description another interface\n",
      "   exit\n",
      "!\n",
      "\n"
     ]
    }
   ],
   "source": [
    "curl -s --http2 -k --cert-type PEM -E $USER_CERT \\\n",
    "    -X POST \\\n",
    "    -d @4_translate/translate_candidate.json \\\n",
    "    $BASE_URL/restconf/operations/ntc-rosetta-conf:translate | jq -r \".native\""
   ]
  },
  {
   "cell_type": "code",
   "execution_count": 19,
   "metadata": {},
   "outputs": [
    {
     "name": "stdout",
     "output_type": "stream",
     "text": [
      "interface eth0\n",
      "   description an interface description\n",
      "   exit\n",
      "!\n",
      "interface eth1\n",
      "   description another interface\n",
      "   exit\n",
      "!\n",
      "\n"
     ]
    }
   ],
   "source": [
    "curl -s --http2 -k --cert-type PEM -E $USER_CERT \\\n",
    "    -X POST \\\n",
    "    -d @4_translate/translate_running.json \\\n",
    "    $BASE_URL/restconf/operations/ntc-rosetta-conf:translate | jq -r \".native\""
   ]
  },
  {
   "cell_type": "markdown",
   "metadata": {},
   "source": [
    "At this point you could grab both \"native\" results and diff them:"
   ]
  },
  {
   "cell_type": "code",
   "execution_count": 20,
   "metadata": {},
   "outputs": [
    {
     "name": "stdout",
     "output_type": "stream",
     "text": [
      "interface eth0\t\t\t\t\tinterface eth0\n",
      "   description a changed description\t      |\t   description an interface description\n",
      "   exit\t\t\t\t\t\t   exit\n",
      "!\t\t\t\t\t\t!\n",
      "interface eth1\t\t\t\t\tinterface eth1\n",
      "   description another interface\t\t   description another interface\n",
      "   exit\t\t\t\t\t\t   exit\n",
      "!\t\t\t\t\t\t!\n",
      "\n"
     ]
    }
   ],
   "source": [
    "curl -s --http2 -k --cert-type PEM -E $USER_CERT \\\n",
    "    -X POST \\\n",
    "    -d @4_translate/translate_candidate.json \\\n",
    "    $BASE_URL/restconf/operations/ntc-rosetta-conf:translate | jq -r \".native\" > /tmp/candidate\n",
    "curl -s --http2 -k --cert-type PEM -E $USER_CERT \\\n",
    "    -X POST \\\n",
    "    -d @4_translate/translate_running.json \\\n",
    "    $BASE_URL/restconf/operations/ntc-rosetta-conf:translate | jq -r \".native\" > /tmp/running\n",
    "diff -W 100 --side-by-side /tmp/candidate /tmp/running || echo -n"
   ]
  },
  {
   "cell_type": "markdown",
   "metadata": {},
   "source": [
    "## Merging\n",
    "\n",
    "Alterntatively, you can call the merge endpoint and get a list of commands that will make the configurations converge:"
   ]
  },
  {
   "cell_type": "code",
   "execution_count": 21,
   "metadata": {
    "scrolled": false
   },
   "outputs": [
    {
     "name": "stdout",
     "output_type": "stream",
     "text": [
      "interface eth0\n",
      "   description a changed description\n",
      "   exit\n",
      "!\n",
      "\n"
     ]
    }
   ],
   "source": [
    "curl -s --http2 -k --cert-type PEM -E $USER_CERT \\\n",
    "    -X POST \\\n",
    "    -d @4_translate/merge.json \\\n",
    "    $BASE_URL/restconf/operations/ntc-rosetta-conf:merge | jq -r \".native\""
   ]
  },
  {
   "cell_type": "code",
   "execution_count": 22,
   "metadata": {},
   "outputs": [
    {
     "name": "stdout",
     "output_type": "stream",
     "text": [
      "{\n",
      "    \"status\": \"OK\"\n",
      "}{\n",
      "    \"status\": \"OK\",\n",
      "    \"conf-changed\": true\n",
      "}"
     ]
    }
   ],
   "source": [
    "# ignore me, this deletes the data so the notebook can be rerun\n",
    "curl --http2 -k --cert-type PEM -E $USER_CERT \\\n",
    "    -X POST \\\n",
    "    $BASE_URL/restconf/operations/jetconf:conf-reset\n",
    "curl --http2 -k --cert-type PEM -E $USER_CERT \\\n",
    "    -X PUT \\\n",
    "    -d @../../tests/data/interfaces_empty.json \\\n",
    "    $BASE_URL/restconf/data/openconfig-interfaces:interfaces\n",
    "curl --http2 -k --cert-type PEM -E $USER_CERT \\\n",
    "    -X DELETE \\\n",
    "    $BASE_URL/restconf/data/ntc-rosetta-conf:device\n",
    "curl --http2 -k --cert-type PEM -E $USER_CERT \\\n",
    "    -X POST \\\n",
    "    $BASE_URL/restconf/operations/jetconf:conf-commit"
   ]
  }
 ],
 "metadata": {
  "kernelspec": {
   "display_name": "Bash",
   "language": "bash",
   "name": "bash"
  },
  "language_info": {
   "codemirror_mode": "shell",
   "file_extension": ".sh",
   "mimetype": "text/x-sh",
   "name": "bash"
  }
 },
 "nbformat": 4,
 "nbformat_minor": 2
}
