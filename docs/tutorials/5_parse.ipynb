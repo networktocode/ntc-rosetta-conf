{
 "cells": [
  {
   "cell_type": "markdown",
   "metadata": {},
   "source": [
    "# Parsing\n",
    "\n",
    "## Starting things up\n",
    "\n",
    "Run:\n",
    "\n",
    "    make start-dev-containers\n",
    "\n",
    "Now, let's export some environment variables we need:"
   ]
  },
  {
   "cell_type": "code",
   "execution_count": 1,
   "metadata": {},
   "outputs": [],
   "source": [
    "export USER_CERT=../../tests/certs/test_user_curl.pem\n",
    "export BASE_URL=https://ntc-rosetta-conf:8443"
   ]
  },
  {
   "cell_type": "markdown",
   "metadata": {},
   "source": [
    "## Configuration\n",
    "\n",
    "First we need to configure the platform of the device, this configuration is part of the model."
   ]
  },
  {
   "cell_type": "code",
   "execution_count": 2,
   "metadata": {},
   "outputs": [
    {
     "name": "stdout",
     "output_type": "stream",
     "text": [
      "{\n",
      "    \"ntc-rosetta-conf:device\": {\n",
      "        \"config\": {\n",
      "            \"platform\": \"ios\"\n",
      "        }\n",
      "    }\n",
      "}\n"
     ]
    }
   ],
   "source": [
    "cat 5_parse/configuration.json"
   ]
  },
  {
   "cell_type": "code",
   "execution_count": 3,
   "metadata": {},
   "outputs": [],
   "source": [
    "curl --http2 -k --cert-type PEM -E $USER_CERT \\\n",
    "    -X POST \\\n",
    "    -d @5_parse/configuration.json \\\n",
    "    $BASE_URL/restconf/data/"
   ]
  },
  {
   "cell_type": "code",
   "execution_count": 4,
   "metadata": {},
   "outputs": [
    {
     "name": "stdout",
     "output_type": "stream",
     "text": [
      "{\n",
      "    \"status\": \"OK\",\n",
      "    \"conf-changed\": true\n",
      "}"
     ]
    }
   ],
   "source": [
    "curl --http2 -k --cert-type PEM -E $USER_CERT \\\n",
    "    -X POST \\\n",
    "    $BASE_URL/restconf/operations/jetconf:conf-commit"
   ]
  },
  {
   "cell_type": "code",
   "execution_count": 5,
   "metadata": {},
   "outputs": [
    {
     "name": "stdout",
     "output_type": "stream",
     "text": [
      "{\n",
      "    \"ntc-rosetta-conf:device\": {\n",
      "        \"config\": {\n",
      "            \"platform\": \"ntc-rosetta-conf:ios\"\n",
      "        }\n",
      "    }\n",
      "}"
     ]
    }
   ],
   "source": [
    "curl --http2 -k --cert-type PEM -E $USER_CERT \\\n",
    "    -X GET \\\n",
    "    $BASE_URL/restconf_running/data/ntc-rosetta-conf:device"
   ]
  },
  {
   "cell_type": "markdown",
   "metadata": {},
   "source": [
    "## Parsing\n",
    "\n",
    "Now let's see how we can parse native configuration, let's start by checking configuration is empty:"
   ]
  },
  {
   "cell_type": "code",
   "execution_count": 6,
   "metadata": {},
   "outputs": [
    {
     "name": "stdout",
     "output_type": "stream",
     "text": [
      "{\n",
      "    \"openconfig-interfaces:interfaces\": {\n",
      "        \"interface\": []\n",
      "    }\n",
      "}"
     ]
    }
   ],
   "source": [
    "curl --http2 -k --cert-type PEM -E $USER_CERT \\\n",
    "    -X GET \\\n",
    "     $BASE_URL/restconf_running/data/openconfig-interfaces:interfaces "
   ]
  },
  {
   "cell_type": "markdown",
   "metadata": {},
   "source": [
    "Now we need to a json object with the following structure:\n",
    "\n",
    "```\n",
    "{\n",
    "    \"ntc-rosetta-conf:input\": {\n",
    "        \"validate\": true,\n",
    "        \"native\": \"string with configuration in native format (ios_style/xml/etc)\"\n",
    "    }\n",
    "}\n",
    "```"
   ]
  },
  {
   "cell_type": "code",
   "execution_count": 7,
   "metadata": {},
   "outputs": [
    {
     "name": "stdout",
     "output_type": "stream",
     "text": [
      "{\n",
      "    \"ntc-rosetta-conf:input\": {\n",
      "        \"validate\": true,\n",
      "        \"native\": \"interface GigabitEthernet0\\n   description an interface description\\n   exit\\n!\\ninterface GigabitEthernet1\\n   description another interface\\n   exit\\n!\\n\"\n",
      "    }\n",
      "}\n"
     ]
    }
   ],
   "source": [
    "cat 5_parse/parse.json"
   ]
  },
  {
   "cell_type": "markdown",
   "metadata": {},
   "source": [
    "Now we call the RPC `ntc-rosetta-conf:parse`:"
   ]
  },
  {
   "cell_type": "code",
   "execution_count": 8,
   "metadata": {},
   "outputs": [
    {
     "name": "stdout",
     "output_type": "stream",
     "text": [
      "{\n",
      "    \"result\": \"ntc-rosetta-config:success\"\n",
      "}"
     ]
    }
   ],
   "source": [
    "curl --http2 -k --cert-type PEM -E $USER_CERT \\\n",
    "    -X POST \\\n",
    "    -d @5_parse/parse.json \\\n",
    "    $BASE_URL/restconf/operations/ntc-rosetta-conf:parse"
   ]
  },
  {
   "cell_type": "markdown",
   "metadata": {},
   "source": [
    "Configuration is parsed and loaded into the running database:"
   ]
  },
  {
   "cell_type": "code",
   "execution_count": 9,
   "metadata": {},
   "outputs": [
    {
     "name": "stdout",
     "output_type": "stream",
     "text": [
      "{\n",
      "    \"openconfig-interfaces:interfaces\": {\n",
      "        \"interface\": [\n",
      "            {\n",
      "                \"name\": \"GigabitEthernet0\",\n",
      "                \"config\": {\n",
      "                    \"name\": \"GigabitEthernet0\",\n",
      "                    \"type\": \"iana-if-type:ethernetCsmacd\",\n",
      "                    \"description\": \"an interface description\",\n",
      "                    \"enabled\": true\n",
      "                }\n",
      "            },\n",
      "            {\n",
      "                \"name\": \"GigabitEthernet1\",\n",
      "                \"config\": {\n",
      "                    \"name\": \"GigabitEthernet1\",\n",
      "                    \"type\": \"iana-if-type:ethernetCsmacd\",\n",
      "                    \"description\": \"another interface\",\n",
      "                    \"enabled\": true\n",
      "                }\n",
      "            }\n",
      "        ]\n",
      "    }\n",
      "}"
     ]
    }
   ],
   "source": [
    "curl --http2 -k --cert-type PEM -E $USER_CERT \\\n",
    "    -X GET \\\n",
    "    $BASE_URL/restconf_running/data/openconfig-interfaces:interfaces"
   ]
  },
  {
   "cell_type": "code",
   "execution_count": 10,
   "metadata": {},
   "outputs": [
    {
     "name": "stdout",
     "output_type": "stream",
     "text": [
      "{\n",
      "    \"status\": \"OK\",\n",
      "    \"conf-changed\": true\n",
      "}"
     ]
    }
   ],
   "source": [
    "# ignore me, this deletes the data so the notebook can be rerun\n",
    "curl --http2 -k --cert-type PEM -E $USER_CERT \\\n",
    "    -X PUT \\\n",
    "    -d @../../tests/data/interfaces_empty.json \\\n",
    "    $BASE_URL/restconf/data/openconfig-interfaces:interfaces\n",
    "curl --http2 -k --cert-type PEM -E $USER_CERT \\\n",
    "    -X DELETE \\\n",
    "    $BASE_URL/restconf/data/ntc-rosetta-conf:device\n",
    "curl --http2 -k --cert-type PEM -E $USER_CERT \\\n",
    "    -X POST \\\n",
    "    $BASE_URL/restconf/operations/jetconf:conf-commit"
   ]
  }
 ],
 "metadata": {
  "kernelspec": {
   "display_name": "Bash",
   "language": "bash",
   "name": "bash"
  },
  "language_info": {
   "codemirror_mode": "shell",
   "file_extension": ".sh",
   "mimetype": "text/x-sh",
   "name": "bash"
  }
 },
 "nbformat": 4,
 "nbformat_minor": 2
}
