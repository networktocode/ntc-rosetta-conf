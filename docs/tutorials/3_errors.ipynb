{
 "cells": [
  {
   "cell_type": "markdown",
   "metadata": {},
   "source": [
    "# Errors\n",
    "\n",
    "In this demo we are going to see how jetconf deals with errors in the data.\n",
    "\n",
    "## Starting things up\n",
    "\n",
    "Run:\n",
    "\n",
    "    make build_container\n",
    "    docker run \\\n",
    "        -p 8443:8443 \\\n",
    "        -e ONLINE_MODE=0 \\\n",
    "        rosetta -c /rosetta/tests/config.yaml\n",
    "\n",
    "Now, let's export some environment variables we need:"
   ]
  },
  {
   "cell_type": "code",
   "execution_count": 1,
   "metadata": {},
   "outputs": [],
   "source": [
    "export USER_CERT=../../tests/certs/test_user_curl.pem\n",
    "export BASE_URL=https://ntc-rosetta-conf:8443"
   ]
  },
  {
   "cell_type": "markdown",
   "metadata": {},
   "source": [
    "## Types of errors\n",
    "\n",
    "There are three type of errors you can encounter:\n",
    "\n",
    "1. Simple schema validation errors - For instance, a leaf being assigned a wrong type. This are performed on each operation.\n",
    "2. Complex schema validation errors - Wrong identity value or value. This are performed on commit only.\n",
    "3. Semantic errors - A duplicated key in a list, a missing leaf-ref, etc. This are performed on commit only.\n",
    "\n",
    "### Simple schema validation errors\n",
    "\n",
    "We are going to start trying to create a device with a number as name:"
   ]
  },
  {
   "cell_type": "code",
   "execution_count": 2,
   "metadata": {},
   "outputs": [
    {
     "name": "stdout",
     "output_type": "stream",
     "text": [
      "{\n",
      "\t\"openconfig-interfaces:interface\": {\n",
      "\t\t\"name\": \"eth0\",\n",
      "\t\t\"config\": {\n",
      "\t\t\t\"name\": \"eth0\",\n",
      "\t\t\t\"description\": 0,\n",
      "\t\t\t\"type\": \"iana-if-type:ethernetCsmacd\"\n",
      "\t\t}\n",
      "\t}\n",
      "}\n"
     ]
    }
   ],
   "source": [
    "cat 3_errors/add_interface_eth0_bad_description.json"
   ]
  },
  {
   "cell_type": "code",
   "execution_count": 3,
   "metadata": {},
   "outputs": [
    {
     "name": "stdout",
     "output_type": "stream",
     "text": [
      "{\n",
      "    \"ietf-restconf:errors\": {\n",
      "        \"error\": [\n",
      "            {\n",
      "                \"error-type\": \"protocol\",\n",
      "                \"error-tag\": \"invalid-value\",\n",
      "                \"error-path\": \"/openconfig-interfaces:interfaces/interface/1/config/description\",\n",
      "                \"error-message\": \"RawTypeError: expected string value\"\n",
      "            }\n",
      "        ]\n",
      "    }\n",
      "}"
     ]
    }
   ],
   "source": [
    "curl --http2 -k --cert-type PEM -E $USER_CERT \\\n",
    "    -X POST \\\n",
    "    -d @3_errors/add_interface_eth0_bad_description.json \\\n",
    "    $BASE_URL/restconf/data/openconfig-interfaces:interfaces"
   ]
  },
  {
   "cell_type": "code",
   "execution_count": 4,
   "metadata": {},
   "outputs": [
    {
     "name": "stdout",
     "output_type": "stream",
     "text": [
      "{\n",
      "    \"status\": \"OK\"\n",
      "}"
     ]
    }
   ],
   "source": [
    "curl --http2 -k --cert-type PEM -E $USER_CERT \\\n",
    "    -X POST \\\n",
    "    $BASE_URL/restconf/operations/jetconf:conf-reset"
   ]
  },
  {
   "cell_type": "markdown",
   "metadata": {},
   "source": [
    "### Complex schema validation errors\n",
    "\n",
    "Now, let's try creating an interface with a very large MTU:"
   ]
  },
  {
   "cell_type": "code",
   "execution_count": 5,
   "metadata": {},
   "outputs": [
    {
     "name": "stdout",
     "output_type": "stream",
     "text": [
      "{\n",
      "\t\"openconfig-interfaces:interface\": {\n",
      "\t\t\"name\": \"eth0\",\n",
      "\t\t\"config\": {\n",
      "\t\t\t\"name\": \"eth0\",\n",
      "\t\t\t\"type\": \"iana-if-type:ethernetCsmacd\",\n",
      "\t\t\t\"mtu\": 5465464564564645\n",
      "\t\t}\n",
      "\t}\n",
      "}\n"
     ]
    }
   ],
   "source": [
    "cat 3_errors/add_interface_eth0_large_mtu.json"
   ]
  },
  {
   "cell_type": "code",
   "execution_count": 6,
   "metadata": {},
   "outputs": [],
   "source": [
    "curl --http2 -k --cert-type PEM -E $USER_CERT \\\n",
    "    -X POST \\\n",
    "    -d @3_errors/add_interface_eth0_large_mtu.json \\\n",
    "    $BASE_URL/restconf/data/openconfig-interfaces:interfaces"
   ]
  },
  {
   "cell_type": "code",
   "execution_count": 7,
   "metadata": {},
   "outputs": [
    {
     "name": "stdout",
     "output_type": "stream",
     "text": [
      "{\n",
      "    \"ietf-restconf:errors\": {\n",
      "        \"error\": [\n",
      "            {\n",
      "                \"error-type\": \"protocol\",\n",
      "                \"error-tag\": \"operation-failed\",\n",
      "                \"error-app-tag\": \"invalid-type\",\n",
      "                \"error-path\": \"/openconfig-interfaces:interfaces/interface/0/config/mtu\",\n",
      "                \"error-message\": \"YangTypeError: expected uint16\"\n",
      "            }\n",
      "        ]\n",
      "    }\n",
      "}"
     ]
    }
   ],
   "source": [
    "# previous command succeeded, however, the commit will fail\n",
    "curl --http2 -k --cert-type PEM -E $USER_CERT \\\n",
    "    -X POST \\\n",
    "    $BASE_URL/restconf/operations/jetconf:conf-commit"
   ]
  },
  {
   "cell_type": "code",
   "execution_count": 8,
   "metadata": {},
   "outputs": [
    {
     "name": "stdout",
     "output_type": "stream",
     "text": [
      "{\n",
      "    \"status\": \"OK\"\n",
      "}"
     ]
    }
   ],
   "source": [
    "curl --http2 -k --cert-type PEM -E $USER_CERT \\\n",
    "    -X POST \\\n",
    "    $BASE_URL/restconf/operations/jetconf:conf-reset"
   ]
  },
  {
   "cell_type": "markdown",
   "metadata": {},
   "source": [
    "# Semantic errors\n",
    "\n",
    "Now we are going to try to create a two devices with the same name. On commit it will complain the key is not unique (it doesn't matter if one of the element was previously commited or not):"
   ]
  },
  {
   "cell_type": "code",
   "execution_count": 9,
   "metadata": {},
   "outputs": [
    {
     "name": "stdout",
     "output_type": "stream",
     "text": [
      "{\n",
      "\t\"openconfig-interfaces:interface\": {\n",
      "\t\t\"name\": \"eth0\",\n",
      "\t\t\"config\": {\n",
      "\t\t\t\"name\": \"eth0\",\n",
      "\t\t\t\"type\": \"iana-if-type:ethernetCsmacd\"\n",
      "\t\t}\n",
      "\t}\n",
      "}\n"
     ]
    }
   ],
   "source": [
    "cat 3_errors/add_interface_eth0.json"
   ]
  },
  {
   "cell_type": "code",
   "execution_count": 10,
   "metadata": {},
   "outputs": [],
   "source": [
    "curl --http2 -k --cert-type PEM -E $USER_CERT \\\n",
    "    -X POST \\\n",
    "    -d @3_errors/add_interface_eth0.json \\\n",
    "    $BASE_URL/restconf/data/openconfig-interfaces:interfaces"
   ]
  },
  {
   "cell_type": "code",
   "execution_count": 11,
   "metadata": {},
   "outputs": [],
   "source": [
    "curl --http2 -k --cert-type PEM -E $USER_CERT \\\n",
    "    -X POST \\\n",
    "    -d @3_errors/add_interface_eth0.json \\\n",
    "    $BASE_URL/restconf/data/openconfig-interfaces:interfaces"
   ]
  },
  {
   "cell_type": "code",
   "execution_count": 12,
   "metadata": {},
   "outputs": [
    {
     "name": "stdout",
     "output_type": "stream",
     "text": [
      "{\n",
      "    \"openconfig-interfaces:interfaces\": {\n",
      "        \"interface\": [\n",
      "            {\n",
      "                \"name\": \"eth0\",\n",
      "                \"config\": {\n",
      "                    \"name\": \"eth0\",\n",
      "                    \"type\": \"iana-if-type:ethernetCsmacd\"\n",
      "                }\n",
      "            },\n",
      "            {\n",
      "                \"name\": \"eth0\",\n",
      "                \"config\": {\n",
      "                    \"name\": \"eth0\",\n",
      "                    \"type\": \"iana-if-type:ethernetCsmacd\"\n",
      "                }\n",
      "            }\n",
      "        ]\n",
      "    }\n",
      "}"
     ]
    }
   ],
   "source": [
    "curl --http2 -k --cert-type PEM -E $USER_CERT \\\n",
    "    -X GET \\\n",
    "    $BASE_URL/restconf/data/openconfig-interfaces:interfaces"
   ]
  },
  {
   "cell_type": "code",
   "execution_count": 13,
   "metadata": {
    "scrolled": true
   },
   "outputs": [
    {
     "name": "stdout",
     "output_type": "stream",
     "text": [
      "{\n",
      "    \"ietf-restconf:errors\": {\n",
      "        \"error\": [\n",
      "            {\n",
      "                \"error-type\": \"protocol\",\n",
      "                \"error-tag\": \"invalid-value\",\n",
      "                \"error-app-tag\": \"non-unique-key\",\n",
      "                \"error-path\": \"/openconfig-interfaces:interfaces/interface\",\n",
      "                \"error-message\": \"SemanticError: 'eth0'\"\n",
      "            }\n",
      "        ]\n",
      "    }\n",
      "}"
     ]
    }
   ],
   "source": [
    "curl --http2 -k --cert-type PEM -E $USER_CERT \\\n",
    "    -X POST \\\n",
    "    $BASE_URL/restconf/operations/jetconf:conf-commit"
   ]
  },
  {
   "cell_type": "code",
   "execution_count": 14,
   "metadata": {},
   "outputs": [
    {
     "name": "stdout",
     "output_type": "stream",
     "text": [
      "{\n",
      "    \"status\": \"OK\"\n",
      "}"
     ]
    }
   ],
   "source": [
    "# ignore me, this discards the changes so the notebook can be rerun\n",
    "curl --http2 -k --cert-type PEM -E $USER_CERT \\\n",
    "    -X POST \\\n",
    "    $BASE_URL/restconf/operations/jetconf:conf-reset"
   ]
  }
 ],
 "metadata": {
  "kernelspec": {
   "display_name": "Bash",
   "language": "bash",
   "name": "bash"
  },
  "language_info": {
   "codemirror_mode": "shell",
   "file_extension": ".sh",
   "mimetype": "text/x-sh",
   "name": "bash"
  }
 },
 "nbformat": 4,
 "nbformat_minor": 2
}
