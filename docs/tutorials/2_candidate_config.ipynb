{
 "cells": [
  {
   "cell_type": "markdown",
   "metadata": {},
   "source": [
    "# Candidate/Running config database\n",
    "\n",
    "In this demo we are going to see how jetconf let's you manage the \n",
    "\n",
    "## Starting things up\n",
    "\n",
    "Run:\n",
    "\n",
    "    make start-dev-containers\n",
    "\n",
    "Now, let's export some environment variables we need:"
   ]
  },
  {
   "cell_type": "code",
   "execution_count": 1,
   "metadata": {},
   "outputs": [],
   "source": [
    "export USER_CERT=../../tests/certs/test_user_curl.pem\n",
    "export BASE_URL=https://ntc-rosetta-conf:8443"
   ]
  },
  {
   "cell_type": "markdown",
   "metadata": {},
   "source": [
    "## Basics\n",
    "\n",
    "Even though it's not part of the specification, jetconf implements a netconf-like workflow where changes are made against a candidate database and commited in a single transaction into the running database. There are a few notes to be made here.\n",
    "\n",
    "Even though changes are always made against the candidate database, the `GET` method can be used against the running configuration. To support this the URL target will be slightly different:\n",
    "\n",
    "* Use `$BASE_URL/restconf/data/...` to target the candidate database.\n",
    "* Use `$BASE_URL/restconf_running/data/...` to target the running database.\n",
    "\n",
    "To operate the candidata database, jetconf supports the following operational endpoints:\n",
    "\n",
    "| Path                                           | Method | Use                                  |\n",
    "|------------------------------------------------|--------|--------------------------------------|\n",
    "| /restconf/operations/jetconf:conf-reset        | POST   | Discard candidate configuration      |\n",
    "| /restconf/operations/jetconf:conf-commit       | POST   | commit candidate configuration       |\n",
    "| /restconf/operations/jetconf:get-schema-digest | POST   | retrieve supported schema            |\n",
    "| /restconf/operations/jetconf:conf-status       | POST   | retrieve status of the configuration |\n",
    "\n",
    "Let's see a few examples, let's start by adding an interface:"
   ]
  },
  {
   "cell_type": "code",
   "execution_count": 2,
   "metadata": {},
   "outputs": [
    {
     "name": "stdout",
     "output_type": "stream",
     "text": [
      "{\n",
      "    \"openconfig-interfaces:interfaces\": {\n",
      "        \"interface\": []\n",
      "    }\n",
      "}"
     ]
    }
   ],
   "source": [
    "curl --http2 -k --cert-type PEM -E $USER_CERT \\\n",
    "    -X GET \\\n",
    "    $BASE_URL/restconf/data/openconfig-interfaces:interfaces"
   ]
  },
  {
   "cell_type": "code",
   "execution_count": 3,
   "metadata": {},
   "outputs": [],
   "source": [
    "curl --http2 -k --cert-type PEM -E $USER_CERT \\\n",
    "    -X POST \\\n",
    "    -d @2_candidate_config/add_interface_eth0.json \\\n",
    "    $BASE_URL/restconf/data/openconfig-interfaces:interfaces"
   ]
  },
  {
   "cell_type": "markdown",
   "metadata": {},
   "source": [
    "Now, let's verify the candidate database:"
   ]
  },
  {
   "cell_type": "code",
   "execution_count": 4,
   "metadata": {},
   "outputs": [
    {
     "name": "stdout",
     "output_type": "stream",
     "text": [
      "{\n",
      "    \"openconfig-interfaces:interfaces\": {\n",
      "        \"interface\": [\n",
      "            {\n",
      "                \"name\": \"eth0\",\n",
      "                \"config\": {\n",
      "                    \"name\": \"eth0\",\n",
      "                    \"description\": \"a test interface\",\n",
      "                    \"type\": \"iana-if-type:ethernetCsmacd\"\n",
      "                }\n",
      "            }\n",
      "        ]\n",
      "    }\n",
      "}"
     ]
    }
   ],
   "source": [
    "curl --http2 -k --cert-type PEM -E $USER_CERT \\\n",
    "    -X GET \\\n",
    "    $BASE_URL/restconf/data/openconfig-interfaces:interfaces"
   ]
  },
  {
   "cell_type": "markdown",
   "metadata": {},
   "source": [
    "The changes are there, let's look at the running database:"
   ]
  },
  {
   "cell_type": "code",
   "execution_count": 5,
   "metadata": {},
   "outputs": [
    {
     "name": "stdout",
     "output_type": "stream",
     "text": [
      "{\n",
      "    \"openconfig-interfaces:interfaces\": {\n",
      "        \"interface\": []\n",
      "    }\n",
      "}"
     ]
    }
   ],
   "source": [
    "curl --http2 -k --cert-type PEM -E $USER_CERT \\\n",
    "    -X GET \\\n",
    "    $BASE_URL/restconf_running/data/openconfig-interfaces:interfaces"
   ]
  },
  {
   "cell_type": "markdown",
   "metadata": {},
   "source": [
    "The changes are not yet present there, let's do a couple of other changes; let's add another interface:"
   ]
  },
  {
   "cell_type": "code",
   "execution_count": 6,
   "metadata": {},
   "outputs": [],
   "source": [
    "curl --http2 -k --cert-type PEM -E $USER_CERT \\\n",
    "    -X POST \\\n",
    "    -d @2_candidate_config/add_interface_eth1.json \\\n",
    "    $BASE_URL/restconf/data/openconfig-interfaces:interfaces"
   ]
  },
  {
   "cell_type": "markdown",
   "metadata": {},
   "source": [
    "Now, let's verify the different configuration databases:"
   ]
  },
  {
   "cell_type": "code",
   "execution_count": 7,
   "metadata": {},
   "outputs": [
    {
     "name": "stdout",
     "output_type": "stream",
     "text": [
      "{\n",
      "    \"openconfig-interfaces:interfaces\": {\n",
      "        \"interface\": [\n",
      "            {\n",
      "                \"name\": \"eth0\",\n",
      "                \"config\": {\n",
      "                    \"name\": \"eth0\",\n",
      "                    \"description\": \"a test interface\",\n",
      "                    \"type\": \"iana-if-type:ethernetCsmacd\"\n",
      "                }\n",
      "            },\n",
      "            {\n",
      "                \"name\": \"eth1\",\n",
      "                \"config\": {\n",
      "                    \"name\": \"eth1\",\n",
      "                    \"description\": \"another test interface\",\n",
      "                    \"type\": \"iana-if-type:ethernetCsmacd\"\n",
      "                }\n",
      "            }\n",
      "        ]\n",
      "    }\n",
      "}"
     ]
    }
   ],
   "source": [
    "# candidate:devices\n",
    "curl --http2 -k --cert-type PEM -E $USER_CERT \\\n",
    "    -X GET \\\n",
    "    $BASE_URL/restconf/data/openconfig-interfaces:interfaces"
   ]
  },
  {
   "cell_type": "code",
   "execution_count": 8,
   "metadata": {},
   "outputs": [
    {
     "name": "stdout",
     "output_type": "stream",
     "text": [
      "{\n",
      "    \"openconfig-interfaces:interfaces\": {\n",
      "        \"interface\": []\n",
      "    }\n",
      "}"
     ]
    }
   ],
   "source": [
    "# running:devices\n",
    "curl --http2 -k --cert-type PEM -E $USER_CERT \\\n",
    "    -X GET \\\n",
    "    $BASE_URL/restconf_running/data/openconfig-interfaces:interfaces"
   ]
  },
  {
   "cell_type": "markdown",
   "metadata": {},
   "source": [
    "Pretty much what we expected. Now we can do three things:\n",
    "\n",
    "- `/restconf/operations/jetconf:conf-reset` - Discard the changes\n",
    "- `/restconf/operations/jetconf:conf-commit` - Commit the changes\n",
    "- `restconf/operations/jetconf:conf-status` - Verify the status of the configuration\n",
    "\n",
    "Let's start by verifying the status (should report that there is a transaction opened), commit the changes and then verify the status again (should report the transaction is not closed):"
   ]
  },
  {
   "cell_type": "code",
   "execution_count": 9,
   "metadata": {},
   "outputs": [
    {
     "name": "stdout",
     "output_type": "stream",
     "text": [
      "{\n",
      "    \"status\": \"OK\",\n",
      "    \"transaction-opened\": true\n",
      "}"
     ]
    }
   ],
   "source": [
    "curl --http2 -k --cert-type PEM -E $USER_CERT \\\n",
    "    -X POST \\\n",
    "    $BASE_URL/restconf/operations/jetconf:conf-status"
   ]
  },
  {
   "cell_type": "code",
   "execution_count": 10,
   "metadata": {},
   "outputs": [
    {
     "name": "stdout",
     "output_type": "stream",
     "text": [
      "{\n",
      "    \"status\": \"OK\",\n",
      "    \"conf-changed\": true\n",
      "}"
     ]
    }
   ],
   "source": [
    "curl --http2 -k --cert-type PEM -E $USER_CERT \\\n",
    "    -X POST \\\n",
    "    $BASE_URL/restconf/operations/jetconf:conf-commit"
   ]
  },
  {
   "cell_type": "code",
   "execution_count": 11,
   "metadata": {},
   "outputs": [
    {
     "name": "stdout",
     "output_type": "stream",
     "text": [
      "{\n",
      "    \"status\": \"OK\",\n",
      "    \"transaction-opened\": false\n",
      "}"
     ]
    }
   ],
   "source": [
    "curl --http2 -k --cert-type PEM -E $USER_CERT \\\n",
    "    -X POST \\\n",
    "    $BASE_URL/restconf/operations/jetconf:conf-status"
   ]
  },
  {
   "cell_type": "markdown",
   "metadata": {},
   "source": [
    "Now, let's verify the running config:"
   ]
  },
  {
   "cell_type": "code",
   "execution_count": 12,
   "metadata": {
    "scrolled": true
   },
   "outputs": [
    {
     "name": "stdout",
     "output_type": "stream",
     "text": [
      "{\n",
      "    \"openconfig-interfaces:interfaces\": {\n",
      "        \"interface\": [\n",
      "            {\n",
      "                \"name\": \"eth0\",\n",
      "                \"config\": {\n",
      "                    \"name\": \"eth0\",\n",
      "                    \"description\": \"a test interface\",\n",
      "                    \"type\": \"iana-if-type:ethernetCsmacd\"\n",
      "                }\n",
      "            },\n",
      "            {\n",
      "                \"name\": \"eth1\",\n",
      "                \"config\": {\n",
      "                    \"name\": \"eth1\",\n",
      "                    \"description\": \"another test interface\",\n",
      "                    \"type\": \"iana-if-type:ethernetCsmacd\"\n",
      "                }\n",
      "            }\n",
      "        ]\n",
      "    }\n",
      "}"
     ]
    }
   ],
   "source": [
    "# running:interfaces\n",
    "curl --http2 -k --cert-type PEM -E $USER_CERT \\\n",
    "    -X GET \\\n",
    "    $BASE_URL/restconf_running/data/openconfig-interfaces:interfaces"
   ]
  },
  {
   "cell_type": "code",
   "execution_count": 13,
   "metadata": {},
   "outputs": [
    {
     "name": "stdout",
     "output_type": "stream",
     "text": [
      "{\n",
      "    \"status\": \"OK\",\n",
      "    \"conf-changed\": true\n",
      "}"
     ]
    }
   ],
   "source": [
    "# ignore me, this deletes the data so the notebook can be rerun\n",
    "curl --http2 -k --cert-type PEM -E $USER_CERT \\\n",
    "    -X PUT \\\n",
    "    -d @../../tests/data/interfaces_empty.json \\\n",
    "    $BASE_URL/restconf/data/openconfig-interfaces:interfaces\n",
    "curl --http2 -k --cert-type PEM -E $USER_CERT \\\n",
    "    -X POST \\\n",
    "    $BASE_URL/restconf/operations/jetconf:conf-commit"
   ]
  }
 ],
 "metadata": {
  "kernelspec": {
   "display_name": "Bash",
   "language": "bash",
   "name": "bash"
  },
  "language_info": {
   "codemirror_mode": "shell",
   "file_extension": ".sh",
   "mimetype": "text/x-sh",
   "name": "bash"
  }
 },
 "nbformat": 4,
 "nbformat_minor": 2
}
